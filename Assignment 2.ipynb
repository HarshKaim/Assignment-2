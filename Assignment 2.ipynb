{
 "cells": [
  {
   "cell_type": "markdown",
   "id": "f0764488",
   "metadata": {},
   "source": [
    "Q1. How do you comment code in Python? What are the different types of comments?\n",
    "\n",
    "Ans. To comment code in python there are two ways:\n",
    "    1. by providing '#' for one line comment at the start of the comment\n",
    "    2. and for multiline comment we use ''' '''. We put our statements between them."
   ]
  },
  {
   "cell_type": "markdown",
   "id": "fdd49d84",
   "metadata": {},
   "source": [
    "Q2. What are variables in Python? How do you declare and assign values to variables?\n",
    "\n",
    "Ans. Variables are the name assigned to memory spaces which are used to hold values of different types like int, float etc. to declare variable we simply need to right its name and assign the values with the help of assignment operator. E.g. x=2 or y=2.4 etc."
   ]
  },
  {
   "cell_type": "code",
   "execution_count": 1,
   "id": "a0760704",
   "metadata": {},
   "outputs": [
    {
     "name": "stdout",
     "output_type": "stream",
     "text": [
      "<class 'int'>\n",
      "2.0\n"
     ]
    }
   ],
   "source": [
    "#Q3. How do you convert one data type to another in Python?\n",
    "\n",
    "#Ans. the task of converting one data type to another is known as typecasting and to this can be done as:\n",
    "\n",
    "x=2\n",
    "print(type(x))\n",
    "print(float(x))"
   ]
  },
  {
   "cell_type": "markdown",
   "id": "7a9bb6ee",
   "metadata": {},
   "source": [
    "Q4. How do you write and execute a Python script from the command line?\n",
    "\n",
    "Ans. To write and execute a Python script from the command line, follow these steps:\n",
    "\n",
    "1. Open a text editor and create a new file with a `.py` extension. For example, you can use a command like `nano script.py` to create and open the file using the nano text editor.\n",
    "\n",
    "2. Write your Python code in the script file. For example, you can add a simple \"Hello, World!\" program:\n",
    "\n",
    "3. Save the file and exit the text editor.\n",
    "\n",
    "4. Open a terminal or command prompt and navigate to the directory where the Python script is located. You can use the `cd` command to change directories. For example, if the script is in the \"Documents\" directory, you can use `cd Documents` to navigate to that directory.\n",
    "\n",
    "5. Once you are in the correct directory, you can execute the Python script using the `python` command followed by the script's filename. For example:\n",
    "\n",
    "6. Press Enter to run the command. The Python interpreter will execute the code in the script, and you should see the output in the terminal:\n"
   ]
  },
  {
   "cell_type": "code",
   "execution_count": 3,
   "id": "efc19b78",
   "metadata": {},
   "outputs": [
    {
     "data": {
      "text/plain": [
       "[2, 3]"
      ]
     },
     "execution_count": 3,
     "metadata": {},
     "output_type": "execute_result"
    }
   ],
   "source": [
    "# Q5. Given a list my_list = [1, 2, 3, 4, 5], write the code to slice the list and obtain the sub-list [2, 3].\n",
    "my_list=[1,2,3,4,5]\n",
    "my_list[1:3]"
   ]
  },
  {
   "cell_type": "markdown",
   "id": "2fc4d960",
   "metadata": {},
   "source": [
    "Q6. What is a complex number in mathematics, and how is it represented in Python?\n",
    "\n",
    "Ans. A complex number in mathematics is the one which has imaginary part in it that is squareroot of -1 which is repersented as i (which stands for iota)\n",
    "    but to represent complex number in python the imaginary part is represented by j, thus 4+2j is a complex number represented in pythonm m\n"
   ]
  },
  {
   "cell_type": "code",
   "execution_count": 5,
   "id": "491998ac",
   "metadata": {},
   "outputs": [],
   "source": [
    "# Q7. What is the correct way to declare a variable named age and assign the value 25 to it?\n",
    "age=25"
   ]
  },
  {
   "cell_type": "code",
   "execution_count": 6,
   "id": "ad42f951",
   "metadata": {},
   "outputs": [
    {
     "name": "stdout",
     "output_type": "stream",
     "text": [
      "<class 'float'>\n"
     ]
    }
   ],
   "source": [
    "#Q8. Declare a variable named price and assign the value 9.99 to it. What data type does this variable belong to?\n",
    "price=9.99\n",
    "print(type(price))"
   ]
  },
  {
   "cell_type": "code",
   "execution_count": 7,
   "id": "dab54d0c",
   "metadata": {},
   "outputs": [
    {
     "name": "stdout",
     "output_type": "stream",
     "text": [
      "Harsh Kaim\n"
     ]
    }
   ],
   "source": [
    "#Q9. Create a variable named name and assign your full name to it as a string. How would you print the value of this variable?\n",
    "name='Harsh Kaim'\n",
    "print(name)"
   ]
  },
  {
   "cell_type": "code",
   "execution_count": 9,
   "id": "08f73764",
   "metadata": {},
   "outputs": [
    {
     "data": {
      "text/plain": [
       "'World'"
      ]
     },
     "execution_count": 9,
     "metadata": {},
     "output_type": "execute_result"
    }
   ],
   "source": [
    "#Q10. Given the string \"Hello, World!\", extract the substring \"World\".\n",
    "str='Hello, World'\n",
    "str[7:12]"
   ]
  },
  {
   "cell_type": "code",
   "execution_count": 10,
   "id": "e1b70428",
   "metadata": {},
   "outputs": [],
   "source": [
    "# Q11. Create a variable named \"is_student\" and assign it a boolean value indicating whether you are currently a student or not.\n",
    "is_student=True"
   ]
  },
  {
   "cell_type": "code",
   "execution_count": null,
   "id": "104dd24f",
   "metadata": {},
   "outputs": [],
   "source": []
  }
 ],
 "metadata": {
  "kernelspec": {
   "display_name": "Python 3 (ipykernel)",
   "language": "python",
   "name": "python3"
  },
  "language_info": {
   "codemirror_mode": {
    "name": "ipython",
    "version": 3
   },
   "file_extension": ".py",
   "mimetype": "text/x-python",
   "name": "python",
   "nbconvert_exporter": "python",
   "pygments_lexer": "ipython3",
   "version": "3.9.12"
  }
 },
 "nbformat": 4,
 "nbformat_minor": 5
}
